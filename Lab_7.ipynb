{
 "cells": [
  {
   "cell_type": "code",
   "execution_count": null,
   "id": "3e0756b4",
   "metadata": {},
   "outputs": [],
   "source": [
    "phone_book={\n",
    "         \"person1\": {\n",
    "                       \"Name\": \"Amal\",\n",
    "                       \"Number\": 1111111111\n",
    "                    },\n",
    "         \"person2\": {\n",
    "                       \"Name\": \"Mohammed\",\n",
    "                       \"Number\": 2222222222\n",
    "                    },\n",
    "         \"person3\": {\n",
    "                       \"Name\": \"Khadija\",\n",
    "                       \"Number\": 3333333333\n",
    "                    },\n",
    "         \"person4\": {\n",
    "                       \"Name\": \"Abdullah\",\n",
    "                       \"Number\": 4444444444\n",
    "                    },\n",
    "         \"person5\": {\n",
    "                       \"Name\": \"Rawan\",\n",
    "                       \"Number\": 5555555555\n",
    "                    },\n",
    "    \n",
    "         \"person6\": {\n",
    "                       \"Name\": \"Faisal\",\n",
    "                       \"Number\": 6666666666\n",
    "                    },\n",
    "         \"person7\": {\n",
    "                       \"Name\": \"Layla\",\n",
    "                       \"Number\": 7777777777\n",
    "                    },  \n",
    "}\n",
    "def number_owner(number):\n",
    "    if len(number) != 10:\n",
    "        print(\"This is invalid number\")\n",
    "    elif not number.isdigit():\n",
    "        print(\"This is invalid number\")\n",
    "    else:\n",
    "        name=None\n",
    "        for person in phone_book:\n",
    "            if phone_book[person][\"Number\"] == int(number):\n",
    "                name=phone_book[person][\"Name\"]\n",
    "        if name==None:\n",
    "            print(\"Sorry, the number is not found\")\n",
    "        else:\n",
    "            print(f\"The owner is : {name}\")\n",
    "\n",
    "number =input('Enter The Phone Number You Looking For : ')\n",
    "number_owner(number)\n",
    "\n",
    "\n"
   ]
  }
 ],
 "metadata": {
  "kernelspec": {
   "display_name": "Python 3 (ipykernel)",
   "language": "python",
   "name": "python3"
  },
  "language_info": {
   "codemirror_mode": {
    "name": "ipython",
    "version": 3
   },
   "file_extension": ".py",
   "mimetype": "text/x-python",
   "name": "python",
   "nbconvert_exporter": "python",
   "pygments_lexer": "ipython3",
   "version": "3.11.4"
  }
 },
 "nbformat": 4,
 "nbformat_minor": 5
}
